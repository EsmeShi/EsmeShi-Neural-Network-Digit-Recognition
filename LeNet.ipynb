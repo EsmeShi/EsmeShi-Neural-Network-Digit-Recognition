{
 "cells": [
  {
   "cell_type": "code",
   "execution_count": 6,
   "id": "amazing-robinson",
   "metadata": {},
   "outputs": [
    {
     "name": "stdout",
     "output_type": "stream",
     "text": [
      "Epoch 1/15\n",
      "469/469 - 6s - loss: 0.3687 - accuracy: 0.8877\n",
      "Epoch 2/15\n",
      "469/469 - 6s - loss: 0.0961 - accuracy: 0.9704\n",
      "Epoch 3/15\n",
      "469/469 - 6s - loss: 0.0632 - accuracy: 0.9799\n",
      "Epoch 4/15\n",
      "469/469 - 6s - loss: 0.0478 - accuracy: 0.9850\n",
      "Epoch 5/15\n",
      "469/469 - 6s - loss: 0.0391 - accuracy: 0.9878\n",
      "Epoch 6/15\n",
      "469/469 - 6s - loss: 0.0322 - accuracy: 0.9898\n",
      "Epoch 7/15\n",
      "469/469 - 6s - loss: 0.0275 - accuracy: 0.9915\n",
      "Epoch 8/15\n",
      "469/469 - 7s - loss: 0.0236 - accuracy: 0.9927\n",
      "Epoch 9/15\n",
      "469/469 - 7s - loss: 0.0206 - accuracy: 0.9935\n",
      "Epoch 10/15\n",
      "469/469 - 7s - loss: 0.0172 - accuracy: 0.9945\n",
      "Epoch 11/15\n",
      "469/469 - 7s - loss: 0.0159 - accuracy: 0.9952\n",
      "Epoch 12/15\n",
      "469/469 - 7s - loss: 0.0146 - accuracy: 0.9955\n",
      "Epoch 13/15\n",
      "469/469 - 7s - loss: 0.0131 - accuracy: 0.9959\n",
      "Epoch 14/15\n",
      "469/469 - 7s - loss: 0.0112 - accuracy: 0.9962\n",
      "Epoch 15/15\n",
      "469/469 - 7s - loss: 0.0097 - accuracy: 0.9970\n",
      "313/313 [==============================] - 1s 2ms/step - loss: 0.0347 - accuracy: 0.9906\n",
      "test_loss :  0.03467671200633049\n",
      "test_accuracy :  0.9905999898910522\n"
     ]
    }
   ],
   "source": [
    "from keras.utils import to_categorical\n",
    "from keras import models, layers\n",
    "from keras.optimizers import RMSprop\n",
    "from keras.datasets import mnist\n",
    "\n",
    "(train_images, train_labels), (test_images, test_labels) = mnist.load_data()\n",
    "\n",
    "# building frame\n",
    "def LeNet():\n",
    "    network = models.Sequential()\n",
    "    network.add(layers.Conv2D(filters=6, kernel_size=(3, 3), activation='relu', input_shape=(28, 28, 1)))\n",
    "    network.add(layers.AveragePooling2D((2, 2)))\n",
    "    network.add(layers.Conv2D(filters=16, kernel_size=(3, 3), activation='relu'))\n",
    "    network.add(layers.AveragePooling2D((2, 2)))\n",
    "    network.add(layers.Conv2D(filters=120, kernel_size=(3, 3), activation='relu'))\n",
    "    network.add(layers.Flatten())\n",
    "    network.add(layers.Dense(84, activation='relu'))\n",
    "    network.add(layers.Dense(10, activation='softmax'))\n",
    "    return network\n",
    "network = LeNet()\n",
    "network.compile(optimizer=RMSprop(lr=0.001), loss='categorical_crossentropy', metrics=['accuracy'])\n",
    "\n",
    "train_images = train_images.reshape((60000, 28, 28, 1)).astype('float') / 255\n",
    "test_images = test_images.reshape((10000, 28, 28, 1)).astype('float') / 255\n",
    "train_labels = to_categorical(train_labels)\n",
    "test_labels = to_categorical(test_labels)\n",
    "\n",
    "# testing\n",
    "network.fit(train_images, train_labels, epochs=15, batch_size=128, verbose=2)\n",
    "test_loss, test_accuracy = network.evaluate(test_images, test_labels)\n",
    "print('test_loss : ', test_loss)\n",
    "print('test_accuracy : ', test_accuracy)"
   ]
  },
  {
   "cell_type": "code",
   "execution_count": 3,
   "id": "metric-prime",
   "metadata": {},
   "outputs": [],
   "source": [
    "network.save_weights(\"TrainedNetwork.h5\")"
   ]
  },
  {
   "cell_type": "code",
   "execution_count": null,
   "id": "powerful-arkansas",
   "metadata": {},
   "outputs": [],
   "source": []
  }
 ],
 "metadata": {
  "kernelspec": {
   "display_name": "Python 3",
   "language": "python",
   "name": "python3"
  },
  "language_info": {
   "codemirror_mode": {
    "name": "ipython",
    "version": 3
   },
   "file_extension": ".py",
   "mimetype": "text/x-python",
   "name": "python",
   "nbconvert_exporter": "python",
   "pygments_lexer": "ipython3",
   "version": "3.7.8"
  }
 },
 "nbformat": 4,
 "nbformat_minor": 5
}
